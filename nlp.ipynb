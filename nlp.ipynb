{
 "cells": [
  {
   "cell_type": "code",
   "execution_count": 1,
   "metadata": {
    "id": "RAjUQfP2USIr"
   },
   "outputs": [],
   "source": [
    "import re\n",
    "import pandas as pd\n",
    "import csv"
   ]
  },
  {
   "cell_type": "markdown",
   "metadata": {
    "id": "mPLFuwJOYcIG"
   },
   "source": [
    "**Task1**"
   ]
  },
  {
   "cell_type": "code",
   "execution_count": 4,
   "metadata": {
    "colab": {
     "base_uri": "https://localhost:8080/"
    },
    "id": "J1l-SvpBXdJm",
    "outputId": "8678f1a7-f47c-4ff7-bbc0-e5d490824cde"
   },
   "outputs": [
    {
     "name": "stdout",
     "output_type": "stream",
     "text": [
      "Row 1: The Andante favori is a work for piano solo by Ludwig van Beethoven.\n",
      "Row 4: Charles Munch conducted the symphony no. 9 of Ludwig van Beethoven in 1962.\n",
      "Row 8: Bonn is the birthplace of Ludwig van Beethoven (born 1770).\n"
     ]
    }
   ],
   "source": [
    "TP=TN=FP=FN=0\n",
    "# Open the CSV file\n",
    "with open('Beethoven.csv') as csvfile:\n",
    "    # Create a CSV reader object\n",
    "    reader = csv.reader(csvfile)\n",
    "\n",
    "    # Loop through the rows in the CSV file\n",
    "    for i, row in enumerate(reader):\n",
    "        # Check if the row matches the regular expression\n",
    "        if re.search(r'Ludwig van Beethoven', row[0]):\n",
    "            # Do something with the row\n",
    "            \n",
    "            print(f\"Row {i+1}: {row[0]}\")\n",
    "            if row[1]=='1':\n",
    "              TP=TP+1\n",
    "            else:\n",
    "              FP=FP+1\n",
    "        else:\n",
    "          \n",
    "          if row[1]==\"0\":\n",
    "            TN=TN+1\n",
    "          else:\n",
    "            FN=FN+1"
   ]
  },
  {
   "cell_type": "markdown",
   "metadata": {
    "id": "EiVIn8cTH24O"
   },
   "source": [
    "**Precision**"
   ]
  },
  {
   "cell_type": "code",
   "execution_count": 5,
   "metadata": {
    "colab": {
     "base_uri": "https://localhost:8080/"
    },
    "id": "OJOu1AeF_LEW",
    "outputId": "515429b6-3e6a-41dc-f7ab-4dbf31b23920"
   },
   "outputs": [
    {
     "name": "stdout",
     "output_type": "stream",
     "text": [
      "The Precision of Task 1 is :  100 %\n"
     ]
    }
   ],
   "source": [
    "Precision=TP/(TP+FP)\n",
    "print(\"The Precision of Task 1 is : \",int((Precision)*100),\"%\")"
   ]
  },
  {
   "cell_type": "markdown",
   "metadata": {
    "id": "5SECBgu8H6E5"
   },
   "source": [
    "**Recall**"
   ]
  },
  {
   "cell_type": "code",
   "execution_count": 6,
   "metadata": {
    "colab": {
     "base_uri": "https://localhost:8080/"
    },
    "id": "FH8uGOVtBfiz",
    "outputId": "bd9327b8-e724-4c65-9d13-47450cf94887"
   },
   "outputs": [
    {
     "name": "stdout",
     "output_type": "stream",
     "text": [
      "The Recall of Task 1 is :  37 %\n"
     ]
    }
   ],
   "source": [
    "Recall=TP/(TP+FN)\n",
    "print(\"The Recall of Task 1 is : \",int((Recall)*100),\"%\")"
   ]
  },
  {
   "cell_type": "markdown",
   "metadata": {
    "id": "i968V50QH8m6"
   },
   "source": [
    "**F1**"
   ]
  },
  {
   "cell_type": "code",
   "execution_count": 7,
   "metadata": {
    "colab": {
     "base_uri": "https://localhost:8080/"
    },
    "id": "CcSLPXy2Bsqp",
    "outputId": "9715ce2c-686f-4cc7-cef5-996ac36ca00b"
   },
   "outputs": [
    {
     "name": "stdout",
     "output_type": "stream",
     "text": [
      "The F1 of Task 1 is :  54 %\n"
     ]
    }
   ],
   "source": [
    "F1=2*(Precision*Recall/(Precision+Recall))\n",
    "print(\"The F1 of Task 1 is : \",int((F1)*100),\"%\")"
   ]
  },
  {
   "cell_type": "markdown",
   "metadata": {
    "id": "qlTzws5SH_91"
   },
   "source": [
    "**Confusion Matrix**"
   ]
  },
  {
   "cell_type": "code",
   "execution_count": 8,
   "metadata": {
    "colab": {
     "base_uri": "https://localhost:8080/"
    },
    "id": "CU0AztIjHXnE",
    "outputId": "2a7f4f64-37b4-4612-c870-2adf7b74784f"
   },
   "outputs": [
    {
     "name": "stdout",
     "output_type": "stream",
     "text": [
      "      | predicted 0 | predicted 1\n",
      "------+-------------+-------------\n",
      "true 0|     4       |     0      \n",
      "true 1|     5       |     3      \n"
     ]
    }
   ],
   "source": [
    "# Print the confusion matrix\n",
    "print(f\"      | predicted 0 | predicted 1\")\n",
    "print(f\"------+-------------+-------------\")\n",
    "print(f\"true 0|     {TN}       |     {FP}      \")\n",
    "print(f\"true 1|     {FN}       |     {TP}      \")"
   ]
  },
  {
   "cell_type": "markdown",
   "metadata": {
    "id": "X6g6ma0uZOeP"
   },
   "source": [
    "**Task2**"
   ]
  },
  {
   "cell_type": "code",
   "execution_count": 9,
   "metadata": {
    "colab": {
     "base_uri": "https://localhost:8080/"
    },
    "id": "Tz_X3-xUZR5-",
    "outputId": "44ed117f-acae-423e-ad86-c5150fc0233c"
   },
   "outputs": [
    {
     "name": "stdout",
     "output_type": "stream",
     "text": [
      "Row 1: The Andante favori is a work for piano solo by Ludwig van Beethoven.\n",
      "Row 2: The other great passion of the young Mirabehn was the music of van Beethoven.\n",
      "Row 3: L.V. Beethoven spent the better part of his life in Vienna.\n",
      "Row 4: Charles Munch conducted the symphony no. 9 of Ludwig van Beethoven in 1962.\n",
      "Row 5: Among the few composers writing for the orphica was Ludvig von Beethoven.\n",
      "Row 7: Naue went to Vienna to study briefly with von Beethoven.\n",
      "Row 8: Bonn is the birthplace of Ludwig van Beethoven (born 1770).\n",
      "Row 9: Johann van Beethoven joined the court, primarily as a singer, in 1764.\n",
      "Row 10: Camper van Beethoven were inactive between late 1990 and 1999.\n",
      "Row 11: Beethoven, meanwhile, runs after a loose hot dog cart and ends up on a merry-go-round.\n"
     ]
    }
   ],
   "source": [
    "TP=TN=FP=FN=0\n",
    "# Open the CSV file\n",
    "with open('Beethoven.csv') as csvfile:\n",
    "    # Create a CSV reader object\n",
    "    reader = csv.reader(csvfile)\n",
    "\n",
    "    # Loop through the rows in the CSV file\n",
    "    for i, row in enumerate(reader):\n",
    "        # Check if the row matches the regular expression\n",
    "        if re.search(r'Beethoven', row[0]):\n",
    "            # Do something with the row\n",
    "            print(f\"Row {i+1}: {row[0]}\")\n",
    "            if row[1]=='1':\n",
    "              TP=TP+1\n",
    " \n",
    "            else:\n",
    "              FP=FP+1\n",
    "              \n",
    "        else:\n",
    "            \n",
    "            if row[1]==\"0\":\n",
    "              TN=TN+1\n",
    "            else:\n",
    "              FN=FN+1"
   ]
  },
  {
   "cell_type": "markdown",
   "metadata": {
    "id": "j78mOZ63IDk9"
   },
   "source": [
    "**Precision**"
   ]
  },
  {
   "cell_type": "code",
   "execution_count": 10,
   "metadata": {
    "colab": {
     "base_uri": "https://localhost:8080/"
    },
    "id": "5EaAIwyICX8x",
    "outputId": "d4d2ae3f-e86f-494e-bc59-9f5dfec1e0e1"
   },
   "outputs": [
    {
     "name": "stdout",
     "output_type": "stream",
     "text": [
      "The Precision of Task 2 is :  70 %\n"
     ]
    }
   ],
   "source": [
    "Precision=TP/(TP+FP)\n",
    "print(\"The Precision of Task 2 is : \",int((Precision)*100),\"%\")"
   ]
  },
  {
   "cell_type": "markdown",
   "metadata": {
    "id": "XI-2t8KiIHPK"
   },
   "source": [
    "**Recall**"
   ]
  },
  {
   "cell_type": "code",
   "execution_count": 11,
   "metadata": {
    "colab": {
     "base_uri": "https://localhost:8080/"
    },
    "id": "HJeEUj0CCdG3",
    "outputId": "49a1afc5-aeff-43a6-b279-959eb2450ec1"
   },
   "outputs": [
    {
     "name": "stdout",
     "output_type": "stream",
     "text": [
      "The Recall of Task 1 is :  87 %\n"
     ]
    }
   ],
   "source": [
    "Recall=TP/(TP+FN)\n",
    "print(\"The Recall of Task 1 is : \",int((Recall)*100),\"%\")"
   ]
  },
  {
   "cell_type": "markdown",
   "metadata": {
    "id": "Zg3sYOPLIJkA"
   },
   "source": [
    "**F1**"
   ]
  },
  {
   "cell_type": "code",
   "execution_count": 12,
   "metadata": {
    "colab": {
     "base_uri": "https://localhost:8080/"
    },
    "id": "vSGAB9USCf__",
    "outputId": "055f1267-66c7-4235-f003-6873fe1ef777"
   },
   "outputs": [
    {
     "name": "stdout",
     "output_type": "stream",
     "text": [
      "The F1 of Task 1 is :  77 %\n"
     ]
    }
   ],
   "source": [
    "F1=2*(Precision*Recall/(Precision+Recall))\n",
    "print(\"The F1 of Task 1 is : \",int((F1)*100),\"%\")"
   ]
  },
  {
   "cell_type": "markdown",
   "metadata": {
    "id": "KMUbM5A0IL9r"
   },
   "source": [
    "**Confusion Matrix**"
   ]
  },
  {
   "cell_type": "code",
   "execution_count": 13,
   "metadata": {
    "colab": {
     "base_uri": "https://localhost:8080/"
    },
    "id": "vrCUhYmcHmow",
    "outputId": "497c9e49-ad55-4fc4-d86f-81510006947c"
   },
   "outputs": [
    {
     "name": "stdout",
     "output_type": "stream",
     "text": [
      "      | predicted 0 | predicted 1\n",
      "------+-------------+-------------\n",
      "true 0|     1       |     3      \n",
      "true 1|     1       |     7      \n"
     ]
    }
   ],
   "source": [
    "# Print the confusion matrix\n",
    "print(f\"      | predicted 0 | predicted 1\")\n",
    "print(f\"------+-------------+-------------\")\n",
    "print(f\"true 0|     {TN}       |     {FP}      \")\n",
    "print(f\"true 1|     {FN}       |     {TP}      \")"
   ]
  },
  {
   "cell_type": "markdown",
   "metadata": {
    "id": "gD9a_s3QZd5v"
   },
   "source": [
    "**Task3**"
   ]
  },
  {
   "cell_type": "code",
   "execution_count": 14,
   "metadata": {
    "colab": {
     "base_uri": "https://localhost:8080/"
    },
    "id": "huibskriZc-n",
    "outputId": "1e9aef14-0949-4401-bf53-894b90048cd2"
   },
   "outputs": [
    {
     "name": "stdout",
     "output_type": "stream",
     "text": [
      "Row 1: The Andante favori is a work for piano solo by Ludwig van Beethoven.\n",
      "Row 2: The other great passion of the young Mirabehn was the music of van Beethoven.\n",
      "Row 3: L.V. Beethoven spent the better part of his life in Vienna.\n",
      "Row 4: Charles Munch conducted the symphony no. 9 of Ludwig van Beethoven in 1962.\n",
      "Row 5: Among the few composers writing for the orphica was Ludvig von Beethoven.\n",
      "Row 6: Betthoven, too, used this key extensively in his second piano concerto.\n",
      "Row 7: Naue went to Vienna to study briefly with von Beethoven.\n",
      "Row 8: Bonn is the birthplace of Ludwig van Beethoven (born 1770).\n",
      "Row 9: Johann van Beethoven joined the court, primarily as a singer, in 1764.\n",
      "Row 10: Camper van Beethoven were inactive between late 1990 and 1999.\n",
      "Row 11: Beethoven, meanwhile, runs after a loose hot dog cart and ends up on a merry-go-round.\n"
     ]
    }
   ],
   "source": [
    "TP=TN=FP=FN=0\n",
    "# Open the CSV file\n",
    "with open('Beethoven.csv') as csvfile:\n",
    "    # Create a CSV reader object\n",
    "    reader = csv.reader(csvfile)\n",
    "\n",
    "    # Loop through the rows in the CSV file\n",
    "    for i, row in enumerate(reader):\n",
    "        # Check if the row matches the regular expression\n",
    "        if re.search(r'Bee*t+hoven', row[0]):\n",
    "            # Do something with the row\n",
    "            print(f\"Row {i+1}: {row[0]}\")\n",
    "            if row[1]=='1':\n",
    "              TP=TP+1\n",
    " \n",
    "            else:\n",
    "              FP=FP+1\n",
    "              \n",
    "        else:\n",
    "            \n",
    "            if row[1]==\"0\":\n",
    "              TN=TN+1\n",
    "            else:\n",
    "              FN=FN+1"
   ]
  },
  {
   "cell_type": "markdown",
   "metadata": {
    "id": "a6Xih9z3IP0S"
   },
   "source": [
    "**Precision**"
   ]
  },
  {
   "cell_type": "code",
   "execution_count": 15,
   "metadata": {
    "colab": {
     "base_uri": "https://localhost:8080/"
    },
    "id": "1ffA6Cw2CxNr",
    "outputId": "f7ebc5a5-69b6-4f6b-f1d4-1b193bfe165c"
   },
   "outputs": [
    {
     "name": "stdout",
     "output_type": "stream",
     "text": [
      "The Precision of Task 3 is :  72 %\n"
     ]
    }
   ],
   "source": [
    "Precision=TP/(TP+FP)\n",
    "print(\"The Precision of Task 3 is : \",int((Precision)*100),\"%\")"
   ]
  },
  {
   "cell_type": "markdown",
   "metadata": {
    "id": "6LW4zCk9ISlR"
   },
   "source": [
    "**Recall**"
   ]
  },
  {
   "cell_type": "code",
   "execution_count": 16,
   "metadata": {
    "colab": {
     "base_uri": "https://localhost:8080/"
    },
    "id": "bsRYLYrHC0o9",
    "outputId": "fb7a2cdc-851b-418f-d72d-36e577536362"
   },
   "outputs": [
    {
     "name": "stdout",
     "output_type": "stream",
     "text": [
      "The Recall of Task 3 is :  100 %\n"
     ]
    }
   ],
   "source": [
    "Recall=TP/(TP+FN)\n",
    "print(\"The Recall of Task 3 is : \",int((Recall)*100),\"%\")"
   ]
  },
  {
   "cell_type": "markdown",
   "metadata": {
    "id": "YkqDk6xnIVtc"
   },
   "source": [
    "**F1**"
   ]
  },
  {
   "cell_type": "code",
   "execution_count": 17,
   "metadata": {
    "colab": {
     "base_uri": "https://localhost:8080/"
    },
    "id": "QlXxH7axC4jD",
    "outputId": "75009d01-ec2b-430f-da15-52318f089632"
   },
   "outputs": [
    {
     "name": "stdout",
     "output_type": "stream",
     "text": [
      "The F1 of Task 1 is :  84 %\n"
     ]
    }
   ],
   "source": [
    "F1=2*(Precision*Recall/(Precision+Recall))\n",
    "print(\"The F1 of Task 1 is : \",int((F1)*100),\"%\")"
   ]
  },
  {
   "cell_type": "markdown",
   "metadata": {
    "id": "2oFQqKiJIXt5"
   },
   "source": [
    "**Confusion Matrix**"
   ]
  },
  {
   "cell_type": "code",
   "execution_count": 18,
   "metadata": {
    "colab": {
     "base_uri": "https://localhost:8080/"
    },
    "id": "FkxQlSsNHrGe",
    "outputId": "38341f00-05a9-4a2e-c029-e4320dbf91f7"
   },
   "outputs": [
    {
     "name": "stdout",
     "output_type": "stream",
     "text": [
      "      | predicted 0 | predicted 1\n",
      "------+-------------+-------------\n",
      "true 0|     1       |     3      \n",
      "true 1|     0       |     8      \n"
     ]
    }
   ],
   "source": [
    "# Print the confusion matrix\n",
    "print(f\"      | predicted 0 | predicted 1\")\n",
    "print(f\"------+-------------+-------------\")\n",
    "print(f\"true 0|     {TN}       |     {FP}      \")\n",
    "print(f\"true 1|     {FN}       |     {TP}      \")"
   ]
  },
  {
   "cell_type": "markdown",
   "metadata": {
    "id": "NJlVvZGiJRRb"
   },
   "source": [
    "**Task4**"
   ]
  },
  {
   "cell_type": "code",
   "execution_count": 19,
   "metadata": {
    "colab": {
     "base_uri": "https://localhost:8080/"
    },
    "id": "dZO0Dht-JT6s",
    "outputId": "936ae298-4230-4481-e0fc-83072e5009eb"
   },
   "outputs": [
    {
     "name": "stdout",
     "output_type": "stream",
     "text": [
      "Row 1: The Andante favori is a work for piano solo by Ludwig van Beethoven.\n",
      "Row 2: The other great passion of the young Mirabehn was the music of van Beethoven.\n",
      "Row 3: L.V. Beethoven spent the better part of his life in Vienna.\n",
      "Row 4: Charles Munch conducted the symphony no. 9 of Ludwig van Beethoven in 1962.\n",
      "Row 5: Among the few composers writing for the orphica was Ludvig von Beethoven.\n",
      "Row 6: Betthoven, too, used this key extensively in his second piano concerto.\n",
      "Row 7: Naue went to Vienna to study briefly with von Beethoven.\n",
      "Row 8: Bonn is the birthplace of Ludwig van Beethoven (born 1770).\n"
     ]
    }
   ],
   "source": [
    "TP=TN=FP=FN=0\n",
    "# Open the CSV file\n",
    "with open('Beethoven.csv') as csvfile:\n",
    "    # Create a CSV reader object\n",
    "    reader = csv.reader(csvfile)\n",
    "\n",
    "    # Loop through the rows in the CSV file\n",
    "    for i, row in enumerate(reader):\n",
    "        # Check if the row matches the regular expression\n",
    "        if re.search(r'^Bett+hoven|Be+t+hoven.$|Ludwig van Beethoven|^L.V.', row[0]):\n",
    "            # Do something with the row\n",
    "            print(f\"Row {i+1}: {row[0]}\")\n",
    "            if row[1]=='1':\n",
    "              TP=TP+1\n",
    " \n",
    "            else:\n",
    "              FP=FP+1\n",
    "              \n",
    "        else:\n",
    "            \n",
    "            if row[1]==\"0\":\n",
    "              TN=TN+1\n",
    "            else:\n",
    "              FN=FN+1           "
   ]
  },
  {
   "cell_type": "markdown",
   "metadata": {
    "id": "Sf99B6z-Ia9w"
   },
   "source": [
    "**Precision**"
   ]
  },
  {
   "cell_type": "code",
   "execution_count": 20,
   "metadata": {
    "colab": {
     "base_uri": "https://localhost:8080/"
    },
    "id": "lkmjyyVUMc0O",
    "outputId": "831a175a-0712-40f9-b852-362a8b2fb340"
   },
   "outputs": [
    {
     "name": "stdout",
     "output_type": "stream",
     "text": [
      "The Precision of Task 4 is :  100 %\n"
     ]
    }
   ],
   "source": [
    "Precision=TP/(TP+FP)\n",
    "print(\"The Precision of Task 4 is : \",int((Precision)*100),\"%\")"
   ]
  },
  {
   "cell_type": "markdown",
   "metadata": {
    "id": "shqCo7rxIdGj"
   },
   "source": [
    "**Recall**"
   ]
  },
  {
   "cell_type": "code",
   "execution_count": 21,
   "metadata": {
    "colab": {
     "base_uri": "https://localhost:8080/"
    },
    "id": "Z961h8j8MiX4",
    "outputId": "5fd6319f-f6c0-4da3-dd92-a5e7e6fa8b86"
   },
   "outputs": [
    {
     "name": "stdout",
     "output_type": "stream",
     "text": [
      "The Recall of Task 4 is :  100 %\n"
     ]
    }
   ],
   "source": [
    "Recall=TP/(TP+FN)\n",
    "print(\"The Recall of Task 4 is : \",int((Recall)*100),\"%\")"
   ]
  },
  {
   "cell_type": "markdown",
   "metadata": {
    "id": "hoL_16bsImHe"
   },
   "source": [
    "**F1**"
   ]
  },
  {
   "cell_type": "code",
   "execution_count": 22,
   "metadata": {
    "colab": {
     "base_uri": "https://localhost:8080/"
    },
    "id": "7lVdWkgpMkqP",
    "outputId": "9824d757-729a-4f86-9a9b-fd985ca2b544"
   },
   "outputs": [
    {
     "name": "stdout",
     "output_type": "stream",
     "text": [
      "The F1 of Task 1 is :  100 %\n"
     ]
    }
   ],
   "source": [
    "F1=2*(Precision*Recall/(Precision+Recall))\n",
    "print(\"The F1 of Task 1 is : \",int((F1)*100),\"%\")"
   ]
  },
  {
   "cell_type": "markdown",
   "metadata": {
    "id": "cpLN8dicIoBa"
   },
   "source": [
    "**Confusion Matrix**"
   ]
  },
  {
   "cell_type": "code",
   "execution_count": 23,
   "metadata": {
    "colab": {
     "base_uri": "https://localhost:8080/"
    },
    "id": "gdOwY30zHvfg",
    "outputId": "2fa57437-9a56-4913-d958-2df5200eddcf"
   },
   "outputs": [
    {
     "name": "stdout",
     "output_type": "stream",
     "text": [
      "      | predicted 0 | predicted 1\n",
      "------+-------------+-------------\n",
      "true 0|     4       |     0      \n",
      "true 1|     0       |     8      \n"
     ]
    }
   ],
   "source": [
    "# Print the confusion matrix\n",
    "print(f\"      | predicted 0 | predicted 1\")\n",
    "print(f\"------+-------------+-------------\")\n",
    "print(f\"true 0|     {TN}       |     {FP}      \")\n",
    "print(f\"true 1|     {FN}       |     {TP}      \")"
   ]
  }
 ],
 "metadata": {
  "colab": {
   "provenance": []
  },
  "kernelspec": {
   "display_name": "Python 3 (ipykernel)",
   "language": "python",
   "name": "python3"
  },
  "language_info": {
   "name": "python"
  }
 },
 "nbformat": 4,
 "nbformat_minor": 1
}
